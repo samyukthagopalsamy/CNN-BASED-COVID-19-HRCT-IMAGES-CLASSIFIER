{
  "nbformat": 4,
  "nbformat_minor": 0,
  "metadata": {
    "colab": {
      "name": "3DCNN_3.ipynb",
      "provenance": [],
      "collapsed_sections": []
    },
    "kernelspec": {
      "name": "python3",
      "display_name": "Python 3"
    },
    "accelerator": "GPU"
  },
  "cells": [
    {
      "cell_type": "code",
      "metadata": {
        "id": "6bpJnfsxxpn2",
        "colab": {
          "base_uri": "https://localhost:8080/"
        },
        "outputId": "88455d3a-2357-4985-8280-b8c32863ebb8"
      },
      "source": [
        "!pip install pydicom\n",
        "!pip install git+https://github.com/JoHof/lungmask\n",
        "import numpy as np \n",
        "import os\n",
        "import pydicom\n",
        "import matplotlib.pyplot as plt\n",
        "from lungmask import mask\n",
        "import SimpleITK as sitk\n",
        "from glob import glob\n",
        "import h5py\n",
        "from datetime import datetime \n",
        "import pytz\n",
        "import tensorflow as tf\n",
        "from tensorflow import keras\n",
        "from tensorflow.keras import layers\n",
        "from scipy import ndimage\n",
        "\n",
        "from google.colab import drive\n",
        "drive.mount('/content/drive')\n",
        "\n",
        "from google.colab import drive\n",
        "drive.mount('/content/drive')"
      ],
      "execution_count": null,
      "outputs": [
        {
          "output_type": "stream",
          "text": [
            "Collecting pydicom\n",
            "\u001b[?25l  Downloading https://files.pythonhosted.org/packages/72/7b/6ed88f82dd33a32cdb43432dab7f84fcd40c49d63251442b3cfe0be983d4/pydicom-2.1.1-py3-none-any.whl (1.9MB)\n",
            "\u001b[K     |████████████████████████████████| 1.9MB 8.2MB/s \n",
            "\u001b[?25hInstalling collected packages: pydicom\n",
            "Successfully installed pydicom-2.1.1\n",
            "Collecting git+https://github.com/JoHof/lungmask\n",
            "  Cloning https://github.com/JoHof/lungmask to /tmp/pip-req-build-ek3wtpvm\n",
            "  Running command git clone -q https://github.com/JoHof/lungmask /tmp/pip-req-build-ek3wtpvm\n",
            "Requirement already satisfied: pydicom in /usr/local/lib/python3.6/dist-packages (from lungmask==0.2.8) (2.1.1)\n",
            "Requirement already satisfied: numpy in /usr/local/lib/python3.6/dist-packages (from lungmask==0.2.8) (1.18.5)\n",
            "Requirement already satisfied: torch in /usr/local/lib/python3.6/dist-packages (from lungmask==0.2.8) (1.7.0+cu101)\n",
            "Requirement already satisfied: scipy in /usr/local/lib/python3.6/dist-packages (from lungmask==0.2.8) (1.4.1)\n",
            "Collecting SimpleITK\n",
            "\u001b[?25l  Downloading https://files.pythonhosted.org/packages/f3/cb/a15f4612af8e37f3627fc7fb2f91d07bb584968b0a47e3d5103d7014f93e/SimpleITK-2.0.1-cp36-cp36m-manylinux1_x86_64.whl (44.9MB)\n",
            "\u001b[K     |████████████████████████████████| 44.9MB 72kB/s \n",
            "\u001b[?25hRequirement already satisfied: tqdm in /usr/local/lib/python3.6/dist-packages (from lungmask==0.2.8) (4.41.1)\n",
            "Requirement already satisfied: scikit-image in /usr/local/lib/python3.6/dist-packages (from lungmask==0.2.8) (0.16.2)\n",
            "Collecting fill_voids\n",
            "\u001b[?25l  Downloading https://files.pythonhosted.org/packages/43/b3/b4f88da5aacec71fb03f620e3f5c67bade57cf2fd44aa5469bbe51dc86a9/fill_voids-2.0.1-cp36-cp36m-manylinux2014_x86_64.whl (1.2MB)\n",
            "\u001b[K     |████████████████████████████████| 1.2MB 59.5MB/s \n",
            "\u001b[?25hRequirement already satisfied: dataclasses in /usr/local/lib/python3.6/dist-packages (from torch->lungmask==0.2.8) (0.7)\n",
            "Requirement already satisfied: future in /usr/local/lib/python3.6/dist-packages (from torch->lungmask==0.2.8) (0.16.0)\n",
            "Requirement already satisfied: typing-extensions in /usr/local/lib/python3.6/dist-packages (from torch->lungmask==0.2.8) (3.7.4.3)\n",
            "Requirement already satisfied: networkx>=2.0 in /usr/local/lib/python3.6/dist-packages (from scikit-image->lungmask==0.2.8) (2.5)\n",
            "Requirement already satisfied: pillow>=4.3.0 in /usr/local/lib/python3.6/dist-packages (from scikit-image->lungmask==0.2.8) (7.0.0)\n",
            "Requirement already satisfied: imageio>=2.3.0 in /usr/local/lib/python3.6/dist-packages (from scikit-image->lungmask==0.2.8) (2.4.1)\n",
            "Requirement already satisfied: matplotlib!=3.0.0,>=2.0.0 in /usr/local/lib/python3.6/dist-packages (from scikit-image->lungmask==0.2.8) (3.2.2)\n",
            "Requirement already satisfied: PyWavelets>=0.4.0 in /usr/local/lib/python3.6/dist-packages (from scikit-image->lungmask==0.2.8) (1.1.1)\n",
            "Collecting fastremap\n",
            "\u001b[?25l  Downloading https://files.pythonhosted.org/packages/1a/d2/a1b73088bbb4abb35c238bfadbc8dbaa304ec57a77ade5cce6a4787da0f4/fastremap-1.11.1-cp36-cp36m-manylinux2014_x86_64.whl (3.6MB)\n",
            "\u001b[K     |████████████████████████████████| 3.6MB 52.2MB/s \n",
            "\u001b[?25hRequirement already satisfied: decorator>=4.3.0 in /usr/local/lib/python3.6/dist-packages (from networkx>=2.0->scikit-image->lungmask==0.2.8) (4.4.2)\n",
            "Requirement already satisfied: kiwisolver>=1.0.1 in /usr/local/lib/python3.6/dist-packages (from matplotlib!=3.0.0,>=2.0.0->scikit-image->lungmask==0.2.8) (1.3.1)\n",
            "Requirement already satisfied: cycler>=0.10 in /usr/local/lib/python3.6/dist-packages (from matplotlib!=3.0.0,>=2.0.0->scikit-image->lungmask==0.2.8) (0.10.0)\n",
            "Requirement already satisfied: pyparsing!=2.0.4,!=2.1.2,!=2.1.6,>=2.0.1 in /usr/local/lib/python3.6/dist-packages (from matplotlib!=3.0.0,>=2.0.0->scikit-image->lungmask==0.2.8) (2.4.7)\n",
            "Requirement already satisfied: python-dateutil>=2.1 in /usr/local/lib/python3.6/dist-packages (from matplotlib!=3.0.0,>=2.0.0->scikit-image->lungmask==0.2.8) (2.8.1)\n",
            "Requirement already satisfied: six in /usr/local/lib/python3.6/dist-packages (from cycler>=0.10->matplotlib!=3.0.0,>=2.0.0->scikit-image->lungmask==0.2.8) (1.15.0)\n",
            "Building wheels for collected packages: lungmask\n",
            "  Building wheel for lungmask (setup.py) ... \u001b[?25l\u001b[?25hdone\n",
            "  Created wheel for lungmask: filename=lungmask-0.2.8-cp36-none-any.whl size=17169 sha256=6312ad306d5a5cef01a1420d494df036012bfddef6206cfa231e209494d6943d\n",
            "  Stored in directory: /tmp/pip-ephem-wheel-cache-65tdy7i4/wheels/59/2e/c0/1365551c1853d11aef03baf7ed94cdac831342c7f8a03e45ca\n",
            "Successfully built lungmask\n",
            "Installing collected packages: SimpleITK, fastremap, fill-voids, lungmask\n",
            "Successfully installed SimpleITK-2.0.1 fastremap-1.11.1 fill-voids-2.0.1 lungmask-0.2.8\n",
            "Drive already mounted at /content/drive; to attempt to forcibly remount, call drive.mount(\"/content/drive\", force_remount=True).\n",
            "Drive already mounted at /content/drive; to attempt to forcibly remount, call drive.mount(\"/content/drive\", force_remount=True).\n"
          ],
          "name": "stdout"
        }
      ]
    },
    {
      "cell_type": "code",
      "metadata": {
        "id": "xoexp0kFjUbW"
      },
      "source": [
        "covid_path = '/content/drive/My Drive/covid/'\n",
        "normal_path = '/content/drive/My Drive/normal/'\n",
        "covid_masked_path = '/content/drive/My Drive/data_do_not_delete/dataset/covid/'\n",
        "normal_masked_path = '/content/drive/My Drive/data_do_not_delete/dataset/normal/'\n",
        "masking_log_file_start_path = '/content/drive/My Drive/data_do_not_delete/logs/mask_log/masking_'\n",
        "\n",
        "def displaySampleStack(stack, rows=8, cols=8, start_with=0, show_every=1, cmap='gray', size=12):\n",
        "  '''Plots the given np.ndarray as rows x cols stack of images'''\n",
        "  fig,ax = plt.subplots(rows,cols,figsize=[size, size])\n",
        "  for i in range(rows*cols):\n",
        "      ind = start_with + i*show_every\n",
        "      ax[int(i/rows),int(i % rows)].set_title('slice %d' % ind)\n",
        "      ax[int(i/rows),int(i % rows)].imshow(stack[ind],cmap=cmap)\n",
        "      ax[int(i/rows),int(i % rows)].axis('off')\n",
        "  plt.show()\n",
        "\n",
        "def getTimeStamp():\n",
        "  '''Returns current time as time stamp in IST'''\n",
        "  IST = pytz.timezone('Asia/Kolkata') \n",
        "  return datetime.now(IST).strftime(\"%d-%m-%Y-%H:%M:%S\")\n",
        "\n",
        "def logPrint(file, content):\n",
        "  '''Prints to log file and console'''\n",
        "  file.write(\"\\n\" + getTimeStamp() + \"\\t\" + content)\n",
        "  print(getTimeStamp(), content)\n",
        "\n",
        "def check():\n",
        "  '''Checking'''\n",
        "  op = []\n",
        "  for id in range(1, 100):\n",
        "    curr = getPatientDCMSFolder(id)\n",
        "    filepath = os.listdir(curr)[0]\n",
        "    dcmfile = pydicom.dcmread(curr + '/' + filepath)\n",
        "    ctscan = dcmfile[(0x0040, 0x0275)][0][(0x0040, 0x0009)].value[:9]\n",
        "    op.append([id, ctscan])\n",
        "  return op\n",
        "\n",
        "def getPatientDCMSFolder(id):\n",
        "  '''Returns path to the Patient's DCM folder'''\n",
        "  return covid_path + 'patient-%02d/'%(id)\n",
        "\n",
        "def getNonPatientDCMSFolder(id):\n",
        "  '''Returns path to Non patient's DCM folder'''\n",
        "  return normal_path + 'npatient-%02d/'%(id)\n",
        "\n",
        "def load_scan(path):\n",
        "    slices = [pydicom.read_file(path + '/' + s) for s in os.listdir(path)]\n",
        "    slices.sort(key = lambda x: int(x.InstanceNumber))\n",
        "    try:\n",
        "        slice_thickness = np.abs(slices[0].ImagePositionPatient[2] - slices[1].ImagePositionPatient[2])\n",
        "    except:\n",
        "        slice_thickness = np.abs(slices[0].SliceLocation - slices[1].SliceLocation)\n",
        "    for s in slices:\n",
        "        s.SliceThickness = slice_thickness\n",
        "    return slices\n",
        "\n",
        "\n",
        "def get_pixels_hu(scans):\n",
        "    image = np.stack([s.pixel_array for s in scans])\n",
        "    # Convert to int16 (from sometimes int16), \n",
        "    # should be possible as values should always be low enough (<32k)\n",
        "    image = image.astype(np.int16)\n",
        "    # Set outside-of-scan pixels to 1\n",
        "    # The intercept is usually -1024, so air is approximately 0\n",
        "    image[image == -2000] = 0\n",
        "    # Convert to Hounsfield units (HU)\n",
        "    intercept = scans[0].RescaleIntercept\n",
        "    slope = scans[0].RescaleSlope\n",
        "    if slope != 1:\n",
        "        image = slope * image.astype(np.float64)\n",
        "        image = image.astype(np.int16)\n",
        "    image += np.int16(intercept)\n",
        "    return np.array(image, dtype=np.int16)\n",
        "\n",
        "\n",
        "def read_dicom_file(filepath):\n",
        "    \"\"\"Read and load volume\"\"\"\n",
        "    img = load_scan(filepath)\n",
        "    scan = get_pixels_hu(img)\n",
        "    return scan\n",
        "\n",
        "def resize_volume(img):\n",
        "    \"\"\"Resize across z-axis\"\"\"\n",
        "    # Set the desired depth\n",
        "    desired_depth = 64\n",
        "    desired_width = 128\n",
        "    desired_height = 128\n",
        "    # Get current depth\n",
        "    current_depth = img.shape[0]\n",
        "    current_width = img.shape[1]\n",
        "    current_height = img.shape[-1]\n",
        "    # Compute depth factor\n",
        "    depth = current_depth / desired_depth\n",
        "    width = current_width / desired_width\n",
        "    height = current_height / desired_height\n",
        "    depth_factor = 1 / depth\n",
        "    width_factor = 1 / width\n",
        "    height_factor = 1 / height\n",
        "\n",
        "    # Resize across z-axis\n",
        "    img = ndimage.zoom(img, (depth_factor, width_factor, height_factor), order=1)\n",
        "    return img\n",
        "\n",
        "def process_scan(path):\n",
        "    \"\"\"Read and resize volume\"\"\"\n",
        "    # Read scan\n",
        "    print('About to read DICOM at', path)\n",
        "    volume = read_dicom_file(path)\n",
        "    print('CT Scan read successful from', path)\n",
        "    print(type(volume), volume.shape)\n",
        "\n",
        "    # Resize width, height and depth\n",
        "    volume = resize_volume(volume)\n",
        "    print('Resizing successful')\n",
        "    print(volume.shape)\n",
        "    plt.imshow(volume[30], cmap=\"gray\")\n",
        "    return volume\n",
        "\n",
        "def applyMask(img):\n",
        "  '''Returns original sampled images and segmented images after masking'''\n",
        "  # The original resized image\n",
        "  orig = sitk.GetImageFromArray(img, isVector=False)\n",
        "  seg = mask.apply(orig)\n",
        "  return img, np.multiply(img, seg)\n",
        "\n",
        "def segmentation(patient_id_from, patient_id_to=None, covid=True):\n",
        "  patient_id_to = patient_id_from if patient_id_to is None else patient_id_to\n",
        "  mask_log = masking_log_file_start_path + getTimeStamp() + '.txt'\n",
        "  log = open(mask_log, \"a\")\n",
        "\n",
        "  for patient_id in range(patient_id_from, patient_id_to + 1):\n",
        "    logPrint(log, (\"\" if covid else \"Non \") + \"Patient ID = \" + str(patient_id))\n",
        "    # Segmentation and mask\n",
        "    path = getPatientDCMSFolder(patient_id) if covid else getNonPatientDCMSFolder(patient_id)\n",
        "    img = process_scan(path)\n",
        "    orig_np, seg_np = applyMask(img)\n",
        "    # Save\n",
        "    save_path = (covid_masked_path if covid else (normal_masked_path + \"n\")) + \"masked_%02d.npy\" % (patient_id)\n",
        "    logPrint(log, \"Saving file at = \" + save_path)\n",
        "    np.save(save_path, seg_np)\n",
        "    logPrint(log, \"Segmentation and saving successful for \" + (\"\" if covid else \"Non \") + \"Patient \" + str(patient_id) + \"\\n\\n\")\n",
        "\n",
        "  # After Segmentation of last patient\n",
        "  displaySampleStack(np.load((covid_masked_path if covid else (normal_masked_path + \"n\")) + \"masked_%02d.npy\"%(patient_id_to)))\n",
        "  log.close()"
      ],
      "execution_count": null,
      "outputs": []
    },
    {
      "cell_type": "code",
      "metadata": {
        "id": "2K6sCyn-sydB",
        "colab": {
          "base_uri": "https://localhost:8080/"
        },
        "outputId": "973d2a42-bf73-4cae-c24d-76b42ca725eb"
      },
      "source": [
        "def get_scoring_model(width=128, height=128, depth=64, final_activation=\"linear\"):\n",
        "    \"\"\"Build a 3D convolutional neural network model.\"\"\"\n",
        "\n",
        "    inputs = keras.Input((depth, width, height, 1))\n",
        "\n",
        "    x = layers.Conv3D(filters=64, kernel_size=3, activation=\"relu\")(inputs)\n",
        "    x = layers.MaxPool3D(pool_size=2)(x)\n",
        "    x = layers.BatchNormalization()(x)\n",
        "\n",
        "    x = layers.Conv3D(filters=64, kernel_size=3, activation=\"relu\")(x)\n",
        "    x = layers.MaxPool3D(pool_size=2)(x)\n",
        "    x = layers.BatchNormalization()(x)\n",
        "\n",
        "    x = layers.Conv3D(filters=128, kernel_size=3, activation=\"relu\")(x)\n",
        "    x = layers.MaxPool3D(pool_size=2)(x)\n",
        "    x = layers.BatchNormalization()(x)\n",
        "\n",
        "    x = layers.Conv3D(filters=256, kernel_size=3, activation=\"relu\")(x)\n",
        "    x = layers.MaxPool3D(pool_size=2)(x)\n",
        "    x = layers.BatchNormalization()(x)\n",
        "\n",
        "    x = layers.GlobalAveragePooling3D()(x)\n",
        "    x = layers.Dense(units=512, activation=\"relu\")(x)\n",
        "    x = layers.Dropout(0.3)(x)\n",
        "\n",
        "    outputs = layers.Dense(units=1, activation=final_activation)(x)\n",
        "\n",
        "    # Define the model.\n",
        "    model = keras.Model(inputs, outputs, name=\"3dcnn\")\n",
        "    return model\n",
        "\n",
        "scoring_model_linear = get_scoring_model(width=128, height=128, depth=64, final_activation=\"linear\")\n",
        "scoring_model_linear.summary()"
      ],
      "execution_count": null,
      "outputs": [
        {
          "output_type": "stream",
          "text": [
            "Model: \"3dcnn\"\n",
            "_________________________________________________________________\n",
            "Layer (type)                 Output Shape              Param #   \n",
            "=================================================================\n",
            "input_1 (InputLayer)         [(None, 64, 128, 128, 1)] 0         \n",
            "_________________________________________________________________\n",
            "conv3d (Conv3D)              (None, 62, 126, 126, 64)  1792      \n",
            "_________________________________________________________________\n",
            "max_pooling3d (MaxPooling3D) (None, 31, 63, 63, 64)    0         \n",
            "_________________________________________________________________\n",
            "batch_normalization (BatchNo (None, 31, 63, 63, 64)    256       \n",
            "_________________________________________________________________\n",
            "conv3d_1 (Conv3D)            (None, 29, 61, 61, 64)    110656    \n",
            "_________________________________________________________________\n",
            "max_pooling3d_1 (MaxPooling3 (None, 14, 30, 30, 64)    0         \n",
            "_________________________________________________________________\n",
            "batch_normalization_1 (Batch (None, 14, 30, 30, 64)    256       \n",
            "_________________________________________________________________\n",
            "conv3d_2 (Conv3D)            (None, 12, 28, 28, 128)   221312    \n",
            "_________________________________________________________________\n",
            "max_pooling3d_2 (MaxPooling3 (None, 6, 14, 14, 128)    0         \n",
            "_________________________________________________________________\n",
            "batch_normalization_2 (Batch (None, 6, 14, 14, 128)    512       \n",
            "_________________________________________________________________\n",
            "conv3d_3 (Conv3D)            (None, 4, 12, 12, 256)    884992    \n",
            "_________________________________________________________________\n",
            "max_pooling3d_3 (MaxPooling3 (None, 2, 6, 6, 256)      0         \n",
            "_________________________________________________________________\n",
            "batch_normalization_3 (Batch (None, 2, 6, 6, 256)      1024      \n",
            "_________________________________________________________________\n",
            "global_average_pooling3d (Gl (None, 256)               0         \n",
            "_________________________________________________________________\n",
            "dense (Dense)                (None, 512)               131584    \n",
            "_________________________________________________________________\n",
            "dropout (Dropout)            (None, 512)               0         \n",
            "_________________________________________________________________\n",
            "dense_1 (Dense)              (None, 1)                 513       \n",
            "=================================================================\n",
            "Total params: 1,352,897\n",
            "Trainable params: 1,351,873\n",
            "Non-trainable params: 1,024\n",
            "_________________________________________________________________\n"
          ],
          "name": "stdout"
        }
      ]
    },
    {
      "cell_type": "code",
      "metadata": {
        "id": "clHAmEFa8cjZ"
      },
      "source": [
        "def get_severity_class(score):\n",
        "  \"\"\"Returns severity for the given score\"\"\"\n",
        "  if 0 <= score < 20:\n",
        "    return 'Low'\n",
        "  if 20 <= score < 40:\n",
        "    return 'Mild'\n",
        "  if 40 <= score < 60:\n",
        "    return 'Moderate'\n",
        "  if 60 <= score < 80:\n",
        "    return 'Severe'\n",
        "  if score >= 80:\n",
        "    return 'Critical'\n",
        "\n",
        "scoring_model_linear.load_weights(\"/content/drive/My Drive/data_do_not_delete/dataset/scoring_linear_3d.h5\")\n"
      ],
      "execution_count": null,
      "outputs": []
    },
    {
      "cell_type": "code",
      "metadata": {
        "id": "vdttnb6U-jNS"
      },
      "source": [
        "def get_severity_num(score):\n",
        "  \"\"\"Returns severity for the given score\"\"\"\n",
        "  if 0 <= score < 20:\n",
        "    return 1\n",
        "  if 20 <= score < 40:\n",
        "    return 2\n",
        "  if 40 <= score < 60:\n",
        "    return 3\n",
        "  if 60 <= score < 80:\n",
        "    return 4\n",
        "  if score >= 80:\n",
        "    return 5"
      ],
      "execution_count": null,
      "outputs": []
    },
    {
      "cell_type": "code",
      "metadata": {
        "id": "mJEMpnBS9P9r"
      },
      "source": [
        "def read_many_hdf5(h5file):\n",
        "  \"\"\"Loads dataset from given h5file\"\"\"\n",
        "  images = np.array(h5file[\"images\"]).astype(\"int32\")\n",
        "  labels = np.array(h5file[\"labels\"]).astype(\"uint8\")\n",
        "  scores = np.array(h5file[\"scores\"]).astype(\"uint8\")\n",
        "  return images, labels, scores\n",
        "  \n",
        "vali = h5py.File('/content/drive/My Drive/data_do_not_delete/dataset/validation.h5', 'r')\n",
        "x_val, y_val, scores_val = read_many_hdf5(vali)\n",
        "vali.close()"
      ],
      "execution_count": null,
      "outputs": []
    },
    {
      "cell_type": "code",
      "metadata": {
        "id": "r4PBVD4X9BEl"
      },
      "source": [
        "pred_score = scoring_model_linear.predict(x_val, batch_size=5)\n",
        "\n",
        "pred_class = np.reshape(np.array([get_severity_num(score) for score in pred_score]), (len(pred_score), 1))\n",
        "actual_class = np.reshape(np.array([get_severity_num(score) for score in scores_val]), (len(pred_score), 1))"
      ],
      "execution_count": null,
      "outputs": []
    },
    {
      "cell_type": "code",
      "metadata": {
        "id": "mUaeQ4kr9JEl",
        "colab": {
          "base_uri": "https://localhost:8080/"
        },
        "outputId": "e641e094-15aa-4951-8214-2665697f1cd5"
      },
      "source": [
        "import pandas as pd\n",
        "array = np.concatenate((pred_class, actual_class), axis = 1)\n",
        "data_frame = pd.DataFrame(data = array,  \n",
        "                  columns = ['Predicted Severity', 'Actual Severity'])\n",
        "print(data_frame) "
      ],
      "execution_count": null,
      "outputs": [
        {
          "output_type": "stream",
          "text": [
            "     Predicted Severity  Actual Severity\n",
            "0                     1                1\n",
            "1                     1                1\n",
            "2                     1                1\n",
            "3                     1                1\n",
            "4                     1                1\n",
            "..                  ...              ...\n",
            "165                   3                3\n",
            "166                   1                2\n",
            "167                   1                1\n",
            "168                   1                1\n",
            "169                   3                3\n",
            "\n",
            "[170 rows x 2 columns]\n"
          ],
          "name": "stdout"
        }
      ]
    },
    {
      "cell_type": "code",
      "metadata": {
        "id": "zo22plzn9qfz"
      },
      "source": [
        "data_frame.to_csv('/content/drive/My Drive/data_do_not_delete/dataset/predicted_severity_num_train.csv', index=False)"
      ],
      "execution_count": null,
      "outputs": []
    },
    {
      "cell_type": "code",
      "metadata": {
        "id": "ARw1vb4K995D"
      },
      "source": [
        "def get_model(width=128, height=128, depth=64):\n",
        "    \"\"\"Build a 3D convolutional neural network model.\"\"\"\n",
        "\n",
        "    inputs = keras.Input((depth, width, height, 1))\n",
        "\n",
        "    x = layers.Conv3D(filters=64, kernel_size=3, activation=\"relu\")(inputs)\n",
        "    x = layers.MaxPool3D(pool_size=2)(x)\n",
        "    x = layers.BatchNormalization()(x)\n",
        "\n",
        "    x = layers.Conv3D(filters=64, kernel_size=3, activation=\"relu\")(x)\n",
        "    x = layers.MaxPool3D(pool_size=2)(x)\n",
        "    x = layers.BatchNormalization()(x)\n",
        "\n",
        "    x = layers.Conv3D(filters=128, kernel_size=3, activation=\"relu\")(x)\n",
        "    x = layers.MaxPool3D(pool_size=2)(x)\n",
        "    x = layers.BatchNormalization()(x)\n",
        "\n",
        "    x = layers.Conv3D(filters=256, kernel_size=3, activation=\"relu\")(x)\n",
        "    x = layers.MaxPool3D(pool_size=2)(x)\n",
        "    x = layers.BatchNormalization()(x)\n",
        "\n",
        "    x = layers.GlobalAveragePooling3D()(x)\n",
        "    x = layers.Dense(units=512, activation=\"relu\")(x)\n",
        "    x = layers.Dropout(0.3)(x)\n",
        "\n",
        "    outputs = layers.Dense(units=1, activation=\"sigmoid\")(x)\n",
        "\n",
        "    # Define the model.\n",
        "    model = keras.Model(inputs, outputs, name=\"3dcnn\")\n",
        "    return model"
      ],
      "execution_count": null,
      "outputs": []
    },
    {
      "cell_type": "code",
      "metadata": {
        "colab": {
          "base_uri": "https://localhost:8080/"
        },
        "id": "z9KfNx0BWrBK",
        "outputId": "32d29f12-8187-47a7-dbdd-001edca4f1f4"
      },
      "source": [
        "model = get_model(width=128, height=128, depth=64)\n",
        "model.summary()"
      ],
      "execution_count": null,
      "outputs": [
        {
          "output_type": "stream",
          "text": [
            "Model: \"3dcnn\"\n",
            "_________________________________________________________________\n",
            "Layer (type)                 Output Shape              Param #   \n",
            "=================================================================\n",
            "input_2 (InputLayer)         [(None, 64, 128, 128, 1)] 0         \n",
            "_________________________________________________________________\n",
            "conv3d_4 (Conv3D)            (None, 62, 126, 126, 64)  1792      \n",
            "_________________________________________________________________\n",
            "max_pooling3d_4 (MaxPooling3 (None, 31, 63, 63, 64)    0         \n",
            "_________________________________________________________________\n",
            "batch_normalization_4 (Batch (None, 31, 63, 63, 64)    256       \n",
            "_________________________________________________________________\n",
            "conv3d_5 (Conv3D)            (None, 29, 61, 61, 64)    110656    \n",
            "_________________________________________________________________\n",
            "max_pooling3d_5 (MaxPooling3 (None, 14, 30, 30, 64)    0         \n",
            "_________________________________________________________________\n",
            "batch_normalization_5 (Batch (None, 14, 30, 30, 64)    256       \n",
            "_________________________________________________________________\n",
            "conv3d_6 (Conv3D)            (None, 12, 28, 28, 128)   221312    \n",
            "_________________________________________________________________\n",
            "max_pooling3d_6 (MaxPooling3 (None, 6, 14, 14, 128)    0         \n",
            "_________________________________________________________________\n",
            "batch_normalization_6 (Batch (None, 6, 14, 14, 128)    512       \n",
            "_________________________________________________________________\n",
            "conv3d_7 (Conv3D)            (None, 4, 12, 12, 256)    884992    \n",
            "_________________________________________________________________\n",
            "max_pooling3d_7 (MaxPooling3 (None, 2, 6, 6, 256)      0         \n",
            "_________________________________________________________________\n",
            "batch_normalization_7 (Batch (None, 2, 6, 6, 256)      1024      \n",
            "_________________________________________________________________\n",
            "global_average_pooling3d_1 ( (None, 256)               0         \n",
            "_________________________________________________________________\n",
            "dense_2 (Dense)              (None, 512)               131584    \n",
            "_________________________________________________________________\n",
            "dropout_1 (Dropout)          (None, 512)               0         \n",
            "_________________________________________________________________\n",
            "dense_3 (Dense)              (None, 1)                 513       \n",
            "=================================================================\n",
            "Total params: 1,352,897\n",
            "Trainable params: 1,351,873\n",
            "Non-trainable params: 1,024\n",
            "_________________________________________________________________\n"
          ],
          "name": "stdout"
        }
      ]
    },
    {
      "cell_type": "code",
      "metadata": {
        "id": "MEaX2yjxXZrl"
      },
      "source": [
        "model.load_weights(\"/content/drive/MyDrive/data_do_not_delete/dataset/3d_image_classification.h5\")\n",
        "results = model.predict(x_val, batch_size=5)"
      ],
      "execution_count": null,
      "outputs": []
    },
    {
      "cell_type": "code",
      "metadata": {
        "id": "XQBWFHOHX2oM"
      },
      "source": [
        "y_pred = [[1] if r > 0.5 else [0] for r in results]"
      ],
      "execution_count": null,
      "outputs": []
    },
    {
      "cell_type": "code",
      "metadata": {
        "colab": {
          "base_uri": "https://localhost:8080/"
        },
        "id": "zwABAG6cYeBE",
        "outputId": "9a97f901-f732-45ef-d4cf-ec6e1898e2ff"
      },
      "source": [
        "y_pred"
      ],
      "execution_count": null,
      "outputs": [
        {
          "output_type": "execute_result",
          "data": {
            "text/plain": [
              "[[1],\n",
              " [0],\n",
              " [0],\n",
              " [1],\n",
              " [1],\n",
              " [0],\n",
              " [0],\n",
              " [1],\n",
              " [0],\n",
              " [0],\n",
              " [1],\n",
              " [1],\n",
              " [0],\n",
              " [1],\n",
              " [0],\n",
              " [1],\n",
              " [0],\n",
              " [0],\n",
              " [1],\n",
              " [1],\n",
              " [1],\n",
              " [0],\n",
              " [0],\n",
              " [0],\n",
              " [1],\n",
              " [0],\n",
              " [0],\n",
              " [1],\n",
              " [1],\n",
              " [1],\n",
              " [1],\n",
              " [0],\n",
              " [1],\n",
              " [1],\n",
              " [0],\n",
              " [1],\n",
              " [1],\n",
              " [1],\n",
              " [1],\n",
              " [1]]"
            ]
          },
          "metadata": {
            "tags": []
          },
          "execution_count": 10
        }
      ]
    },
    {
      "cell_type": "code",
      "metadata": {
        "colab": {
          "base_uri": "https://localhost:8080/"
        },
        "id": "6lm2YA0mY2ni",
        "outputId": "184c5c85-8499-45be-ba7d-cda3c4552736"
      },
      "source": [
        "np.column_stack((y_pred, y_val))"
      ],
      "execution_count": null,
      "outputs": [
        {
          "output_type": "execute_result",
          "data": {
            "text/plain": [
              "array([[1, 1],\n",
              "       [0, 1],\n",
              "       [0, 1],\n",
              "       [1, 1],\n",
              "       [1, 1],\n",
              "       [0, 1],\n",
              "       [0, 0],\n",
              "       [1, 1],\n",
              "       [0, 0],\n",
              "       [0, 1],\n",
              "       [1, 1],\n",
              "       [1, 1],\n",
              "       [0, 0],\n",
              "       [1, 1],\n",
              "       [0, 1],\n",
              "       [1, 1],\n",
              "       [0, 0],\n",
              "       [0, 0],\n",
              "       [1, 1],\n",
              "       [1, 1],\n",
              "       [1, 1],\n",
              "       [0, 0],\n",
              "       [0, 0],\n",
              "       [0, 0],\n",
              "       [1, 0],\n",
              "       [0, 0],\n",
              "       [0, 0],\n",
              "       [1, 0],\n",
              "       [1, 1],\n",
              "       [1, 1],\n",
              "       [1, 1],\n",
              "       [0, 0],\n",
              "       [1, 1],\n",
              "       [1, 0],\n",
              "       [0, 0],\n",
              "       [1, 0],\n",
              "       [1, 1],\n",
              "       [1, 1],\n",
              "       [1, 1],\n",
              "       [1, 1]])"
            ]
          },
          "metadata": {
            "tags": []
          },
          "execution_count": 11
        }
      ]
    },
    {
      "cell_type": "code",
      "metadata": {
        "colab": {
          "base_uri": "https://localhost:8080/"
        },
        "id": "_S6_iDPsY_Gh",
        "outputId": "4f953b55-d83c-4acc-b0ef-ee8f4afef024"
      },
      "source": [
        "from sklearn.metrics import confusion_matrix, precision_recall_fscore_support\n",
        "confusion_matrix(y_val, y_pred)"
      ],
      "execution_count": null,
      "outputs": [
        {
          "output_type": "execute_result",
          "data": {
            "text/plain": [
              "array([[12,  4],\n",
              "       [ 5, 19]])"
            ]
          },
          "metadata": {
            "tags": []
          },
          "execution_count": 27
        }
      ]
    },
    {
      "cell_type": "code",
      "metadata": {
        "id": "QZCKfYG1ZoWv"
      },
      "source": [
        "tn, fp, fn, tp = confusion_matrix(y_val, y_pred).ravel()"
      ],
      "execution_count": null,
      "outputs": []
    },
    {
      "cell_type": "code",
      "metadata": {
        "colab": {
          "base_uri": "https://localhost:8080/"
        },
        "id": "08aOfq68Z0yy",
        "outputId": "8719d635-d77e-407e-9068-c68a7f2b1be3"
      },
      "source": [
        "tn"
      ],
      "execution_count": null,
      "outputs": [
        {
          "output_type": "execute_result",
          "data": {
            "text/plain": [
              "12"
            ]
          },
          "metadata": {
            "tags": []
          },
          "execution_count": 29
        }
      ]
    },
    {
      "cell_type": "code",
      "metadata": {
        "colab": {
          "base_uri": "https://localhost:8080/"
        },
        "id": "J-kIPLMoZ39d",
        "outputId": "0f89a160-5c65-46a2-cf34-66d795614443"
      },
      "source": [
        "tp"
      ],
      "execution_count": null,
      "outputs": [
        {
          "output_type": "execute_result",
          "data": {
            "text/plain": [
              "19"
            ]
          },
          "metadata": {
            "tags": []
          },
          "execution_count": 30
        }
      ]
    },
    {
      "cell_type": "code",
      "metadata": {
        "colab": {
          "base_uri": "https://localhost:8080/"
        },
        "id": "LEcIP_f7Z4rq",
        "outputId": "cadc48c9-c879-427a-f0a5-047dc19fcd0e"
      },
      "source": [
        "fp"
      ],
      "execution_count": null,
      "outputs": [
        {
          "output_type": "execute_result",
          "data": {
            "text/plain": [
              "4"
            ]
          },
          "metadata": {
            "tags": []
          },
          "execution_count": 31
        }
      ]
    },
    {
      "cell_type": "code",
      "metadata": {
        "colab": {
          "base_uri": "https://localhost:8080/"
        },
        "id": "63S_uv-ZZ5Gb",
        "outputId": "eecedb26-eb4d-4416-ea2e-de4b5f28d227"
      },
      "source": [
        "fn"
      ],
      "execution_count": null,
      "outputs": [
        {
          "output_type": "execute_result",
          "data": {
            "text/plain": [
              "5"
            ]
          },
          "metadata": {
            "tags": []
          },
          "execution_count": 32
        }
      ]
    },
    {
      "cell_type": "code",
      "metadata": {
        "colab": {
          "base_uri": "https://localhost:8080/"
        },
        "id": "enWlWZ0pZ5rz",
        "outputId": "4fb12db4-2eff-4492-a170-8aa8c8598ddc"
      },
      "source": [
        "precision_recall_fscore_support(y_val, y_pred, beta=1.0)"
      ],
      "execution_count": null,
      "outputs": [
        {
          "output_type": "execute_result",
          "data": {
            "text/plain": [
              "(array([0.70588235, 0.82608696]),\n",
              " array([0.75      , 0.79166667]),\n",
              " array([0.72727273, 0.80851064]),\n",
              " array([16, 24]))"
            ]
          },
          "metadata": {
            "tags": []
          },
          "execution_count": 33
        }
      ]
    },
    {
      "cell_type": "code",
      "metadata": {
        "colab": {
          "base_uri": "https://localhost:8080/"
        },
        "id": "j0QjZR1SaZNT",
        "outputId": "15b49779-e223-4169-8164-62fd0c923b8b"
      },
      "source": [
        "precision = tp / (tp + fp)\n",
        "precision"
      ],
      "execution_count": null,
      "outputs": [
        {
          "output_type": "execute_result",
          "data": {
            "text/plain": [
              "0.8260869565217391"
            ]
          },
          "metadata": {
            "tags": []
          },
          "execution_count": 34
        }
      ]
    },
    {
      "cell_type": "code",
      "metadata": {
        "colab": {
          "base_uri": "https://localhost:8080/"
        },
        "id": "s7VSsC2WarmN",
        "outputId": "cfa9012f-b7ea-4fa8-9d3a-2179a9d090e6"
      },
      "source": [
        "recall = tp / (tp + fn)\n",
        "recall"
      ],
      "execution_count": null,
      "outputs": [
        {
          "output_type": "execute_result",
          "data": {
            "text/plain": [
              "0.7916666666666666"
            ]
          },
          "metadata": {
            "tags": []
          },
          "execution_count": 35
        }
      ]
    },
    {
      "cell_type": "code",
      "metadata": {
        "colab": {
          "base_uri": "https://localhost:8080/"
        },
        "id": "3IaJBfylaw6U",
        "outputId": "90d498bc-03ce-4ccb-918e-7f4718fb3b6e"
      },
      "source": [
        "f1 = 2 * precision * recall / (precision + recall)\n",
        "f1"
      ],
      "execution_count": null,
      "outputs": [
        {
          "output_type": "execute_result",
          "data": {
            "text/plain": [
              "0.8085106382978724"
            ]
          },
          "metadata": {
            "tags": []
          },
          "execution_count": 36
        }
      ]
    },
    {
      "cell_type": "code",
      "metadata": {
        "id": "D5U-UTjUa5IM"
      },
      "source": [
        ""
      ],
      "execution_count": null,
      "outputs": []
    }
  ]
}